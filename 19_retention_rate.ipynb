{
 "cells": [
  {
   "cell_type": "markdown",
   "metadata": {},
   "source": [
    "# Subscription Retention Rate\n",
    "## Goal\n",
    "Subscriptions are a great business model. There are so many advantages for businesses in having subscribers compared to single purchase users: revenue by customer is much higher, it is possible to cross-sell to the subscribers, future revenue is easily predictable, there is a significant cost (time/effort/etc.) for the customer in canceling the subscription, etc.\n",
    "It is no surprise then that so many companies have subscription business models (or try very hard to come up with one!).\n",
    "The goal of this challenge is to model subscription retention rate.\n",
    "## Challenge Description\n",
    "Company XYZ started a subscription model in January, 2015. You get hired as a first data scientist at the end of August and, as a first task, you are asked to help executives understand how the subscription model is doing.\n",
    "Therefore, you decide to pull data from all the users who subscribed in January and see, for each month, how many of them unsubscribed. In particular, your boss is interested in:\n",
    "A model that predicts monthly retention rate for the different subscription price points\n",
    "Based on your model, for each price point, what percentage of users is still subscribed after at least 12 months?\n",
    "How do user country and source affect subscription retention rate? How would you use these findings to improve the company revenue?\n"
   ]
  },
  {
   "cell_type": "code",
   "execution_count": 1,
   "metadata": {},
   "outputs": [],
   "source": [
    "import numpy as np\n",
    "import pandas as pd\n",
    "import matplotlib.pyplot as plt\n",
    "import os \n",
    "import seaborn as sns\n",
    "import warnings\n",
    "warnings.filterwarnings('ignore')\n",
    "pd.set_option('display.max_columns', None)"
   ]
  },
  {
   "cell_type": "code",
   "execution_count": 2,
   "metadata": {},
   "outputs": [],
   "source": [
    "df = pd.read_csv('./subscription.csv')"
   ]
  },
  {
   "cell_type": "code",
   "execution_count": 3,
   "metadata": {},
   "outputs": [
    {
     "data": {
      "text/plain": [
       "(500000, 7)"
      ]
     },
     "execution_count": 3,
     "metadata": {},
     "output_type": "execute_result"
    }
   ],
   "source": [
    "df.shape"
   ]
  },
  {
   "cell_type": "code",
   "execution_count": 4,
   "metadata": {},
   "outputs": [
    {
     "data": {
      "text/plain": [
       "user_id                      False\n",
       "subscription_signup_date     False\n",
       "subscription_monthly_cost    False\n",
       "country                      False\n",
       "source                       False\n",
       "billing_cycles               False\n",
       "is_active                    False\n",
       "dtype: bool"
      ]
     },
     "execution_count": 4,
     "metadata": {},
     "output_type": "execute_result"
    }
   ],
   "source": [
    "df.isna().any()"
   ]
  },
  {
   "cell_type": "code",
   "execution_count": 5,
   "metadata": {},
   "outputs": [
    {
     "data": {
      "text/plain": [
       "False"
      ]
     },
     "execution_count": 5,
     "metadata": {},
     "output_type": "execute_result"
    }
   ],
   "source": [
    "df.duplicated().any()"
   ]
  },
  {
   "cell_type": "code",
   "execution_count": 6,
   "metadata": {},
   "outputs": [
    {
     "data": {
      "text/plain": [
       "array(['January, 2015'], dtype=object)"
      ]
     },
     "execution_count": 6,
     "metadata": {},
     "output_type": "execute_result"
    }
   ],
   "source": [
    "np.unique(df['subscription_signup_date'])"
   ]
  },
  {
   "cell_type": "code",
   "execution_count": 7,
   "metadata": {},
   "outputs": [
    {
     "data": {
      "text/html": [
       "<div>\n",
       "<style scoped>\n",
       "    .dataframe tbody tr th:only-of-type {\n",
       "        vertical-align: middle;\n",
       "    }\n",
       "\n",
       "    .dataframe tbody tr th {\n",
       "        vertical-align: top;\n",
       "    }\n",
       "\n",
       "    .dataframe thead th {\n",
       "        text-align: right;\n",
       "    }\n",
       "</style>\n",
       "<table border=\"1\" class=\"dataframe\">\n",
       "  <thead>\n",
       "    <tr style=\"text-align: right;\">\n",
       "      <th></th>\n",
       "      <th>user_id</th>\n",
       "      <th>subscription_monthly_cost</th>\n",
       "      <th>billing_cycles</th>\n",
       "      <th>is_active</th>\n",
       "    </tr>\n",
       "  </thead>\n",
       "  <tbody>\n",
       "    <tr>\n",
       "      <td>count</td>\n",
       "      <td>500000.000000</td>\n",
       "      <td>500000.000000</td>\n",
       "      <td>500000.000000</td>\n",
       "      <td>500000.000000</td>\n",
       "    </tr>\n",
       "    <tr>\n",
       "      <td>mean</td>\n",
       "      <td>250000.500000</td>\n",
       "      <td>48.469620</td>\n",
       "      <td>2.384970</td>\n",
       "      <td>0.099998</td>\n",
       "    </tr>\n",
       "    <tr>\n",
       "      <td>std</td>\n",
       "      <td>144337.711634</td>\n",
       "      <td>19.570745</td>\n",
       "      <td>2.254952</td>\n",
       "      <td>0.299998</td>\n",
       "    </tr>\n",
       "    <tr>\n",
       "      <td>min</td>\n",
       "      <td>1.000000</td>\n",
       "      <td>29.000000</td>\n",
       "      <td>1.000000</td>\n",
       "      <td>0.000000</td>\n",
       "    </tr>\n",
       "    <tr>\n",
       "      <td>25%</td>\n",
       "      <td>125000.750000</td>\n",
       "      <td>29.000000</td>\n",
       "      <td>1.000000</td>\n",
       "      <td>0.000000</td>\n",
       "    </tr>\n",
       "    <tr>\n",
       "      <td>50%</td>\n",
       "      <td>250000.500000</td>\n",
       "      <td>49.000000</td>\n",
       "      <td>1.000000</td>\n",
       "      <td>0.000000</td>\n",
       "    </tr>\n",
       "    <tr>\n",
       "      <td>75%</td>\n",
       "      <td>375000.250000</td>\n",
       "      <td>49.000000</td>\n",
       "      <td>3.000000</td>\n",
       "      <td>0.000000</td>\n",
       "    </tr>\n",
       "    <tr>\n",
       "      <td>max</td>\n",
       "      <td>500000.000000</td>\n",
       "      <td>99.000000</td>\n",
       "      <td>8.000000</td>\n",
       "      <td>1.000000</td>\n",
       "    </tr>\n",
       "  </tbody>\n",
       "</table>\n",
       "</div>"
      ],
      "text/plain": [
       "             user_id  subscription_monthly_cost  billing_cycles      is_active\n",
       "count  500000.000000              500000.000000   500000.000000  500000.000000\n",
       "mean   250000.500000                  48.469620        2.384970       0.099998\n",
       "std    144337.711634                  19.570745        2.254952       0.299998\n",
       "min         1.000000                  29.000000        1.000000       0.000000\n",
       "25%    125000.750000                  29.000000        1.000000       0.000000\n",
       "50%    250000.500000                  49.000000        1.000000       0.000000\n",
       "75%    375000.250000                  49.000000        3.000000       0.000000\n",
       "max    500000.000000                  99.000000        8.000000       1.000000"
      ]
     },
     "execution_count": 7,
     "metadata": {},
     "output_type": "execute_result"
    }
   ],
   "source": [
    "df.describe()"
   ]
  },
  {
   "cell_type": "code",
   "execution_count": 8,
   "metadata": {},
   "outputs": [
    {
     "data": {
      "text/html": [
       "<div>\n",
       "<style scoped>\n",
       "    .dataframe tbody tr th:only-of-type {\n",
       "        vertical-align: middle;\n",
       "    }\n",
       "\n",
       "    .dataframe tbody tr th {\n",
       "        vertical-align: top;\n",
       "    }\n",
       "\n",
       "    .dataframe thead th {\n",
       "        text-align: right;\n",
       "    }\n",
       "</style>\n",
       "<table border=\"1\" class=\"dataframe\">\n",
       "  <thead>\n",
       "    <tr style=\"text-align: right;\">\n",
       "      <th></th>\n",
       "      <th>user_id</th>\n",
       "      <th>subscription_signup_date</th>\n",
       "      <th>subscription_monthly_cost</th>\n",
       "      <th>country</th>\n",
       "      <th>source</th>\n",
       "      <th>billing_cycles</th>\n",
       "      <th>is_active</th>\n",
       "    </tr>\n",
       "  </thead>\n",
       "  <tbody>\n",
       "    <tr>\n",
       "      <td>0</td>\n",
       "      <td>1459</td>\n",
       "      <td>January, 2015</td>\n",
       "      <td>29</td>\n",
       "      <td>Spain</td>\n",
       "      <td>ads</td>\n",
       "      <td>4</td>\n",
       "      <td>0</td>\n",
       "    </tr>\n",
       "    <tr>\n",
       "      <td>1</td>\n",
       "      <td>12474</td>\n",
       "      <td>January, 2015</td>\n",
       "      <td>49</td>\n",
       "      <td>France</td>\n",
       "      <td>ads</td>\n",
       "      <td>5</td>\n",
       "      <td>0</td>\n",
       "    </tr>\n",
       "    <tr>\n",
       "      <td>2</td>\n",
       "      <td>12294</td>\n",
       "      <td>January, 2015</td>\n",
       "      <td>49</td>\n",
       "      <td>Germany</td>\n",
       "      <td>ads</td>\n",
       "      <td>2</td>\n",
       "      <td>0</td>\n",
       "    </tr>\n",
       "    <tr>\n",
       "      <td>3</td>\n",
       "      <td>3878</td>\n",
       "      <td>January, 2015</td>\n",
       "      <td>49</td>\n",
       "      <td>China</td>\n",
       "      <td>ads</td>\n",
       "      <td>1</td>\n",
       "      <td>0</td>\n",
       "    </tr>\n",
       "    <tr>\n",
       "      <td>4</td>\n",
       "      <td>9567</td>\n",
       "      <td>January, 2015</td>\n",
       "      <td>49</td>\n",
       "      <td>UK</td>\n",
       "      <td>ads</td>\n",
       "      <td>5</td>\n",
       "      <td>0</td>\n",
       "    </tr>\n",
       "  </tbody>\n",
       "</table>\n",
       "</div>"
      ],
      "text/plain": [
       "   user_id subscription_signup_date  subscription_monthly_cost  country  \\\n",
       "0     1459            January, 2015                         29    Spain   \n",
       "1    12474            January, 2015                         49   France   \n",
       "2    12294            January, 2015                         49  Germany   \n",
       "3     3878            January, 2015                         49    China   \n",
       "4     9567            January, 2015                         49       UK   \n",
       "\n",
       "  source  billing_cycles  is_active  \n",
       "0    ads               4          0  \n",
       "1    ads               5          0  \n",
       "2    ads               2          0  \n",
       "3    ads               1          0  \n",
       "4    ads               5          0  "
      ]
     },
     "execution_count": 8,
     "metadata": {},
     "output_type": "execute_result"
    }
   ],
   "source": [
    "df.head()"
   ]
  },
  {
   "cell_type": "code",
   "execution_count": 9,
   "metadata": {},
   "outputs": [
    {
     "data": {
      "text/plain": [
       "subscription_monthly_cost\n",
       "29    146362\n",
       "49    300397\n",
       "99     53241\n",
       "Name: user_id, dtype: int64"
      ]
     },
     "execution_count": 9,
     "metadata": {},
     "output_type": "execute_result"
    }
   ],
   "source": [
    "df.groupby('subscription_monthly_cost')['user_id'].count()"
   ]
  },
  {
   "cell_type": "code",
   "execution_count": 10,
   "metadata": {
    "scrolled": true
   },
   "outputs": [
    {
     "data": {
      "text/plain": [
       "is_active\n",
       "0    1.761092\n",
       "1    8.000000\n",
       "Name: billing_cycles, dtype: float64"
      ]
     },
     "execution_count": 10,
     "metadata": {},
     "output_type": "execute_result"
    }
   ],
   "source": [
    "df.groupby('is_active')['billing_cycles'].mean()"
   ]
  },
  {
   "cell_type": "code",
   "execution_count": 11,
   "metadata": {},
   "outputs": [
    {
     "data": {
      "text/plain": [
       "Text(0.5, 1.0, 'Average Billing Cycles')"
      ]
     },
     "execution_count": 11,
     "metadata": {},
     "output_type": "execute_result"
    },
    {
     "data": {
      "image/png": "[encoded data removed]",
      "text/plain": [
       "<Figure size 432x288 with 1 Axes>"
      ]
     },
     "metadata": {
      "needs_background": "light"
     },
     "output_type": "display_data"
    }
   ],
   "source": [
    "sns.barplot(x='is_active',y='billing_cycles',data=df)\n",
    "plt.title('Average Billing Cycles')"
   ]
  },
  {
   "cell_type": "code",
   "execution_count": 12,
   "metadata": {},
   "outputs": [
    {
     "data": {
      "text/plain": [
       "Text(0.5, 1.0, 'Average Billing Cycles by Cost')"
      ]
     },
     "execution_count": 12,
     "metadata": {},
     "output_type": "execute_result"
    },
    {
     "data": {
      "image/png": "[encoded data removed]",
      "text/plain": [
       "<Figure size 1296x432 with 2 Axes>"
      ]
     },
     "metadata": {
      "needs_background": "light"
     },
     "output_type": "display_data"
    }
   ],
   "source": [
    "fig, ax = plt.subplots(nrows=1, ncols=2, figsize=(18, 6))\n",
    "sns.countplot(x='billing_cycles',data=df.loc[df['is_active']==0]['billing_cycles'].reset_index(),ax=ax[0])\n",
    "ax[0].set_title('Number of Billing Cycles Among Churned Customers', fontsize=16)\n",
    "sns.barplot(y='billing_cycles',x='subscription_monthly_cost',data=df.groupby('subscription_monthly_cost')['billing_cycles'].mean().reset_index(), ax=ax[1])\n",
    "ax[1].set_title('Average Billing Cycles by Cost', fontsize=16)"
   ]
  },
  {
   "cell_type": "code",
   "execution_count": 13,
   "metadata": {},
   "outputs": [
    {
     "data": {
      "text/plain": [
       "Text(0.5, 1.0, 'Average Billing Cycles by Source')"
      ]
     },
     "execution_count": 13,
     "metadata": {},
     "output_type": "execute_result"
    },
    {
     "data": {
      "image/png": "[encoded data removed]",
      "text/plain": [
       "<Figure size 1296x432 with 2 Axes>"
      ]
     },
     "metadata": {
      "needs_background": "light"
     },
     "output_type": "display_data"
    }
   ],
   "source": [
    "fig, ax = plt.subplots(nrows=1, ncols=2, figsize=(18, 6))\n",
    "sns.barplot(y='billing_cycles',x='country',data=df.groupby('country')['billing_cycles'].mean().reset_index(),ax=ax[0])\n",
    "ax[0].set_title('Average Billing Cycles by Country', fontsize=16)\n",
    "sns.barplot(y='billing_cycles',x='source',data=df.groupby('source')['billing_cycles'].mean().reset_index(),ax=ax[1])\n",
    "ax[1].set_title('Average Billing Cycles by Source', fontsize=16)"
   ]
  },
  {
   "cell_type": "markdown",
   "metadata": {},
   "source": [
    "## Total Churn"
   ]
  },
  {
   "cell_type": "code",
   "execution_count": 14,
   "metadata": {},
   "outputs": [],
   "source": [
    "# Total\n",
    "churn = df.groupby(['billing_cycles'])['user_id'].count().cumsum(skipna = False).reset_index()\n",
    "churn.columns=['billing_cycles','#total_churn']\n",
    "churn['#remain'] = churn.apply(lambda x: df.shape[0] - x['#total_churn'],axis=1)\n",
    "churn.drop(churn.tail(1).index,inplace=True)\n",
    "churn['#churn_this_period_total'] = df.groupby(['billing_cycles'])['user_id'].count().reset_index().iloc[:7,:]['user_id']/ churn['#remain']\n",
    "churn['retention_rate_total'] = churn['#remain'] / df.shape[0]\n",
    "\n",
    "# Cost == 29\n",
    "\n",
    "df_29 = df.loc[df['subscription_monthly_cost'] == 29]\n",
    "churn_29 = df_29.groupby(['billing_cycles'])['user_id'].count().cumsum(skipna = False).reset_index()\n",
    "churn_29.columns=['billing_cycles','#total_churn']\n",
    "churn_29['#remain'] = churn_29.apply(lambda x: df_29.shape[0] - x['#total_churn'],axis=1)\n",
    "churn_29.drop(churn_29.tail(1).index,inplace=True)\n",
    "churn_29['#churn_this_period_29'] = df_29.groupby(['billing_cycles'])['user_id'].count().reset_index().iloc[:7,:]['user_id'] /churn_29['#remain']\n",
    "churn_29['retention_rate_29'] = churn_29['#remain'] / df_29.shape[0]\n",
    "\n",
    "# Cost == 49\n",
    "\n",
    "df_49 = df.loc[df['subscription_monthly_cost'] == 49]\n",
    "churn_49 = df_49.groupby(['billing_cycles'])['user_id'].count().cumsum(skipna = False).reset_index()\n",
    "churn_49.columns=['billing_cycles','#total_churn']\n",
    "churn_49['#remain'] = churn_49.apply(lambda x: df_49.shape[0] - x['#total_churn'],axis=1)\n",
    "churn_49.drop(churn_49.tail(1).index,inplace=True)\n",
    "churn_49['#churn_this_period_49'] = df_49.groupby(['billing_cycles'])['user_id'].count().reset_index().iloc[:7,:]['user_id']/ churn_49['#remain']\n",
    "churn_49['retention_rate_49'] = churn_49['#remain'] / df_49.shape[0]\n",
    "\n",
    "# Cost == 99\n",
    "\n",
    "df_99 = df.loc[df['subscription_monthly_cost'] == 99]\n",
    "churn_99 = df_99.groupby(['billing_cycles'])['user_id'].count().cumsum(skipna = False).reset_index()\n",
    "churn_99.columns=['billing_cycles','#total_churn']\n",
    "churn_99['#remain'] = churn_99.apply(lambda x: df_99.shape[0] - x['#total_churn'],axis=1)\n",
    "churn_99.drop(churn_99.tail(1).index,inplace=True)\n",
    "churn_99['#churn_this_period_99'] = df_99.groupby(['billing_cycles'])['user_id'].count().reset_index().iloc[:7,:]['user_id']/ churn_99['#remain']\n",
    "churn_99['retention_rate_99'] = churn_99['#remain'] / df_99.shape[0]"
   ]
  },
  {
   "cell_type": "code",
   "execution_count": 34,
   "metadata": {},
   "outputs": [],
   "source": [
    "churn['log'] = np.log(churn['retention_rate_total'])\n",
    "churn_29['log'] = np.log(churn_29['retention_rate_29'])\n",
    "churn_49['log'] = np.log(churn_49['retention_rate_49'])\n",
    "churn_99['log'] = np.log(churn_99['retention_rate_99'])"
   ]
  },
  {
   "cell_type": "code",
   "execution_count": 36,
   "metadata": {
    "scrolled": false
   },
   "outputs": [
    {
     "data": {
      "text/plain": [
       "Text(0.5, 1.0, 'After Log Retention Rate During the Period')"
      ]
     },
     "execution_count": 36,
     "metadata": {},
     "output_type": "execute_result"
    },
    {
     "data": {
      "image/png": "[encoded data removed]",
      "text/plain": [
       "<Figure size 1296x432 with 2 Axes>"
      ]
     },
     "metadata": {
      "needs_background": "light"
     },
     "output_type": "display_data"
    }
   ],
   "source": [
    "fig, ax = plt.subplots(nrows=1, ncols=2, figsize=(18, 6))\n",
    "churn.plot(x='billing_cycles',y='retention_rate_total',ax=ax[0])\n",
    "churn_29.plot(x='billing_cycles',y='retention_rate_29',ax=ax[0])\n",
    "churn_49.plot(x='billing_cycles',y='retention_rate_49',ax=ax[0])\n",
    "churn_99.plot(x='billing_cycles',y='retention_rate_99',ax=ax[0])\n",
    "ax[0].set_title('Retention Rate')\n",
    "churn.plot(x='billing_cycles',y='log',ax=ax[1])\n",
    "churn_29.plot(x='billing_cycles',y='log',ax=ax[1])\n",
    "churn_49.plot(x='billing_cycles',y='log',ax=ax[1])\n",
    "churn_99.plot(x='billing_cycles',y='log',ax=ax[1])\n",
    "ax[1].set_title('After Log Retention Rate During the Period')\n"
   ]
  },
  {
   "cell_type": "code",
   "execution_count": 44,
   "metadata": {},
   "outputs": [
    {
     "data": {
      "text/html": [
       "<div>\n",
       "<style scoped>\n",
       "    .dataframe tbody tr th:only-of-type {\n",
       "        vertical-align: middle;\n",
       "    }\n",
       "\n",
       "    .dataframe tbody tr th {\n",
       "        vertical-align: top;\n",
       "    }\n",
       "\n",
       "    .dataframe thead th {\n",
       "        text-align: right;\n",
       "    }\n",
       "</style>\n",
       "<table border=\"1\" class=\"dataframe\">\n",
       "  <thead>\n",
       "    <tr style=\"text-align: right;\">\n",
       "      <th></th>\n",
       "      <th>user_id</th>\n",
       "      <th>subscription_signup_date</th>\n",
       "      <th>subscription_monthly_cost</th>\n",
       "      <th>country</th>\n",
       "      <th>source</th>\n",
       "      <th>billing_cycles</th>\n",
       "      <th>is_active</th>\n",
       "    </tr>\n",
       "  </thead>\n",
       "  <tbody>\n",
       "    <tr>\n",
       "      <td>0</td>\n",
       "      <td>1459</td>\n",
       "      <td>January, 2015</td>\n",
       "      <td>29</td>\n",
       "      <td>Spain</td>\n",
       "      <td>ads</td>\n",
       "      <td>4</td>\n",
       "      <td>0</td>\n",
       "    </tr>\n",
       "    <tr>\n",
       "      <td>7</td>\n",
       "      <td>7341</td>\n",
       "      <td>January, 2015</td>\n",
       "      <td>29</td>\n",
       "      <td>US</td>\n",
       "      <td>ads</td>\n",
       "      <td>8</td>\n",
       "      <td>1</td>\n",
       "    </tr>\n",
       "    <tr>\n",
       "      <td>14</td>\n",
       "      <td>5209</td>\n",
       "      <td>January, 2015</td>\n",
       "      <td>29</td>\n",
       "      <td>UK</td>\n",
       "      <td>ads</td>\n",
       "      <td>2</td>\n",
       "      <td>0</td>\n",
       "    </tr>\n",
       "    <tr>\n",
       "      <td>18</td>\n",
       "      <td>3054</td>\n",
       "      <td>January, 2015</td>\n",
       "      <td>29</td>\n",
       "      <td>China</td>\n",
       "      <td>ads</td>\n",
       "      <td>5</td>\n",
       "      <td>0</td>\n",
       "    </tr>\n",
       "    <tr>\n",
       "      <td>22</td>\n",
       "      <td>11799</td>\n",
       "      <td>January, 2015</td>\n",
       "      <td>29</td>\n",
       "      <td>Spain</td>\n",
       "      <td>ads</td>\n",
       "      <td>1</td>\n",
       "      <td>0</td>\n",
       "    </tr>\n",
       "    <tr>\n",
       "      <td>...</td>\n",
       "      <td>...</td>\n",
       "      <td>...</td>\n",
       "      <td>...</td>\n",
       "      <td>...</td>\n",
       "      <td>...</td>\n",
       "      <td>...</td>\n",
       "      <td>...</td>\n",
       "    </tr>\n",
       "    <tr>\n",
       "      <td>499986</td>\n",
       "      <td>497451</td>\n",
       "      <td>January, 2015</td>\n",
       "      <td>29</td>\n",
       "      <td>Spain</td>\n",
       "      <td>seo</td>\n",
       "      <td>1</td>\n",
       "      <td>0</td>\n",
       "    </tr>\n",
       "    <tr>\n",
       "      <td>499988</td>\n",
       "      <td>481681</td>\n",
       "      <td>January, 2015</td>\n",
       "      <td>29</td>\n",
       "      <td>US</td>\n",
       "      <td>ads</td>\n",
       "      <td>8</td>\n",
       "      <td>1</td>\n",
       "    </tr>\n",
       "    <tr>\n",
       "      <td>499995</td>\n",
       "      <td>496962</td>\n",
       "      <td>January, 2015</td>\n",
       "      <td>29</td>\n",
       "      <td>Spain</td>\n",
       "      <td>ads</td>\n",
       "      <td>2</td>\n",
       "      <td>0</td>\n",
       "    </tr>\n",
       "    <tr>\n",
       "      <td>499996</td>\n",
       "      <td>480669</td>\n",
       "      <td>January, 2015</td>\n",
       "      <td>29</td>\n",
       "      <td>Italy</td>\n",
       "      <td>seo</td>\n",
       "      <td>1</td>\n",
       "      <td>0</td>\n",
       "    </tr>\n",
       "    <tr>\n",
       "      <td>499997</td>\n",
       "      <td>491164</td>\n",
       "      <td>January, 2015</td>\n",
       "      <td>29</td>\n",
       "      <td>UK</td>\n",
       "      <td>ads</td>\n",
       "      <td>2</td>\n",
       "      <td>0</td>\n",
       "    </tr>\n",
       "  </tbody>\n",
       "</table>\n",
       "<p>146362 rows × 7 columns</p>\n",
       "</div>"
      ],
      "text/plain": [
       "        user_id subscription_signup_date  subscription_monthly_cost country  \\\n",
       "0          1459            January, 2015                         29   Spain   \n",
       "7          7341            January, 2015                         29      US   \n",
       "14         5209            January, 2015                         29      UK   \n",
       "18         3054            January, 2015                         29   China   \n",
       "22        11799            January, 2015                         29   Spain   \n",
       "...         ...                      ...                        ...     ...   \n",
       "499986   497451            January, 2015                         29   Spain   \n",
       "499988   481681            January, 2015                         29      US   \n",
       "499995   496962            January, 2015                         29   Spain   \n",
       "499996   480669            January, 2015                         29   Italy   \n",
       "499997   491164            January, 2015                         29      UK   \n",
       "\n",
       "       source  billing_cycles  is_active  \n",
       "0         ads               4          0  \n",
       "7         ads               8          1  \n",
       "14        ads               2          0  \n",
       "18        ads               5          0  \n",
       "22        ads               1          0  \n",
       "...       ...             ...        ...  \n",
       "499986    seo               1          0  \n",
       "499988    ads               8          1  \n",
       "499995    ads               2          0  \n",
       "499996    seo               1          0  \n",
       "499997    ads               2          0  \n",
       "\n",
       "[146362 rows x 7 columns]"
      ]
     },
     "execution_count": 44,
     "metadata": {},
     "output_type": "execute_result"
    }
   ],
   "source": [
    "df_29"
   ]
  },
  {
   "cell_type": "markdown",
   "metadata": {},
   "source": [
    "## Model Building"
   ]
  },
  {
   "cell_type": "code",
   "execution_count": 37,
   "metadata": {},
   "outputs": [],
   "source": [
    "import sklearn"
   ]
  },
  {
   "cell_type": "code",
   "execution_count": 38,
   "metadata": {},
   "outputs": [],
   "source": [
    "country = pd.get_dummies(df['country'])\n",
    "source = pd.get_dummies(df['source'])\n",
    "\n",
    "X = pd.concat((country,source),axis=1)"
   ]
  },
  {
   "cell_type": "code",
   "execution_count": 39,
   "metadata": {},
   "outputs": [],
   "source": [
    "X['subscription_monthly_cost'] = df['subscription_monthly_cost']"
   ]
  },
  {
   "cell_type": "code",
   "execution_count": 40,
   "metadata": {},
   "outputs": [
    {
     "data": {
      "text/html": [
       "<div>\n",
       "<style scoped>\n",
       "    .dataframe tbody tr th:only-of-type {\n",
       "        vertical-align: middle;\n",
       "    }\n",
       "\n",
       "    .dataframe tbody tr th {\n",
       "        vertical-align: top;\n",
       "    }\n",
       "\n",
       "    .dataframe thead th {\n",
       "        text-align: right;\n",
       "    }\n",
       "</style>\n",
       "<table border=\"1\" class=\"dataframe\">\n",
       "  <thead>\n",
       "    <tr style=\"text-align: right;\">\n",
       "      <th></th>\n",
       "      <th>China</th>\n",
       "      <th>France</th>\n",
       "      <th>Germany</th>\n",
       "      <th>India</th>\n",
       "      <th>Italy</th>\n",
       "      <th>Spain</th>\n",
       "      <th>UK</th>\n",
       "      <th>US</th>\n",
       "      <th>ads</th>\n",
       "      <th>friend_referral</th>\n",
       "      <th>seo</th>\n",
       "      <th>subscription_monthly_cost</th>\n",
       "    </tr>\n",
       "  </thead>\n",
       "  <tbody>\n",
       "    <tr>\n",
       "      <td>0</td>\n",
       "      <td>0</td>\n",
       "      <td>0</td>\n",
       "      <td>0</td>\n",
       "      <td>0</td>\n",
       "      <td>0</td>\n",
       "      <td>1</td>\n",
       "      <td>0</td>\n",
       "      <td>0</td>\n",
       "      <td>1</td>\n",
       "      <td>0</td>\n",
       "      <td>0</td>\n",
       "      <td>29</td>\n",
       "    </tr>\n",
       "    <tr>\n",
       "      <td>1</td>\n",
       "      <td>0</td>\n",
       "      <td>1</td>\n",
       "      <td>0</td>\n",
       "      <td>0</td>\n",
       "      <td>0</td>\n",
       "      <td>0</td>\n",
       "      <td>0</td>\n",
       "      <td>0</td>\n",
       "      <td>1</td>\n",
       "      <td>0</td>\n",
       "      <td>0</td>\n",
       "      <td>49</td>\n",
       "    </tr>\n",
       "    <tr>\n",
       "      <td>2</td>\n",
       "      <td>0</td>\n",
       "      <td>0</td>\n",
       "      <td>1</td>\n",
       "      <td>0</td>\n",
       "      <td>0</td>\n",
       "      <td>0</td>\n",
       "      <td>0</td>\n",
       "      <td>0</td>\n",
       "      <td>1</td>\n",
       "      <td>0</td>\n",
       "      <td>0</td>\n",
       "      <td>49</td>\n",
       "    </tr>\n",
       "    <tr>\n",
       "      <td>3</td>\n",
       "      <td>1</td>\n",
       "      <td>0</td>\n",
       "      <td>0</td>\n",
       "      <td>0</td>\n",
       "      <td>0</td>\n",
       "      <td>0</td>\n",
       "      <td>0</td>\n",
       "      <td>0</td>\n",
       "      <td>1</td>\n",
       "      <td>0</td>\n",
       "      <td>0</td>\n",
       "      <td>49</td>\n",
       "    </tr>\n",
       "    <tr>\n",
       "      <td>4</td>\n",
       "      <td>0</td>\n",
       "      <td>0</td>\n",
       "      <td>0</td>\n",
       "      <td>0</td>\n",
       "      <td>0</td>\n",
       "      <td>0</td>\n",
       "      <td>1</td>\n",
       "      <td>0</td>\n",
       "      <td>1</td>\n",
       "      <td>0</td>\n",
       "      <td>0</td>\n",
       "      <td>49</td>\n",
       "    </tr>\n",
       "    <tr>\n",
       "      <td>...</td>\n",
       "      <td>...</td>\n",
       "      <td>...</td>\n",
       "      <td>...</td>\n",
       "      <td>...</td>\n",
       "      <td>...</td>\n",
       "      <td>...</td>\n",
       "      <td>...</td>\n",
       "      <td>...</td>\n",
       "      <td>...</td>\n",
       "      <td>...</td>\n",
       "      <td>...</td>\n",
       "      <td>...</td>\n",
       "    </tr>\n",
       "    <tr>\n",
       "      <td>499995</td>\n",
       "      <td>0</td>\n",
       "      <td>0</td>\n",
       "      <td>0</td>\n",
       "      <td>0</td>\n",
       "      <td>0</td>\n",
       "      <td>1</td>\n",
       "      <td>0</td>\n",
       "      <td>0</td>\n",
       "      <td>1</td>\n",
       "      <td>0</td>\n",
       "      <td>0</td>\n",
       "      <td>29</td>\n",
       "    </tr>\n",
       "    <tr>\n",
       "      <td>499996</td>\n",
       "      <td>0</td>\n",
       "      <td>0</td>\n",
       "      <td>0</td>\n",
       "      <td>0</td>\n",
       "      <td>1</td>\n",
       "      <td>0</td>\n",
       "      <td>0</td>\n",
       "      <td>0</td>\n",
       "      <td>0</td>\n",
       "      <td>0</td>\n",
       "      <td>1</td>\n",
       "      <td>29</td>\n",
       "    </tr>\n",
       "    <tr>\n",
       "      <td>499997</td>\n",
       "      <td>0</td>\n",
       "      <td>0</td>\n",
       "      <td>0</td>\n",
       "      <td>0</td>\n",
       "      <td>0</td>\n",
       "      <td>0</td>\n",
       "      <td>1</td>\n",
       "      <td>0</td>\n",
       "      <td>1</td>\n",
       "      <td>0</td>\n",
       "      <td>0</td>\n",
       "      <td>29</td>\n",
       "    </tr>\n",
       "    <tr>\n",
       "      <td>499998</td>\n",
       "      <td>0</td>\n",
       "      <td>0</td>\n",
       "      <td>1</td>\n",
       "      <td>0</td>\n",
       "      <td>0</td>\n",
       "      <td>0</td>\n",
       "      <td>0</td>\n",
       "      <td>0</td>\n",
       "      <td>1</td>\n",
       "      <td>0</td>\n",
       "      <td>0</td>\n",
       "      <td>49</td>\n",
       "    </tr>\n",
       "    <tr>\n",
       "      <td>499999</td>\n",
       "      <td>0</td>\n",
       "      <td>1</td>\n",
       "      <td>0</td>\n",
       "      <td>0</td>\n",
       "      <td>0</td>\n",
       "      <td>0</td>\n",
       "      <td>0</td>\n",
       "      <td>0</td>\n",
       "      <td>1</td>\n",
       "      <td>0</td>\n",
       "      <td>0</td>\n",
       "      <td>49</td>\n",
       "    </tr>\n",
       "  </tbody>\n",
       "</table>\n",
       "<p>500000 rows × 12 columns</p>\n",
       "</div>"
      ],
      "text/plain": [
       "        China  France  Germany  India  Italy  Spain  UK  US  ads  \\\n",
       "0           0       0        0      0      0      1   0   0    1   \n",
       "1           0       1        0      0      0      0   0   0    1   \n",
       "2           0       0        1      0      0      0   0   0    1   \n",
       "3           1       0        0      0      0      0   0   0    1   \n",
       "4           0       0        0      0      0      0   1   0    1   \n",
       "...       ...     ...      ...    ...    ...    ...  ..  ..  ...   \n",
       "499995      0       0        0      0      0      1   0   0    1   \n",
       "499996      0       0        0      0      1      0   0   0    0   \n",
       "499997      0       0        0      0      0      0   1   0    1   \n",
       "499998      0       0        1      0      0      0   0   0    1   \n",
       "499999      0       1        0      0      0      0   0   0    1   \n",
       "\n",
       "        friend_referral  seo  subscription_monthly_cost  \n",
       "0                     0    0                         29  \n",
       "1                     0    0                         49  \n",
       "2                     0    0                         49  \n",
       "3                     0    0                         49  \n",
       "4                     0    0                         49  \n",
       "...                 ...  ...                        ...  \n",
       "499995                0    0                         29  \n",
       "499996                0    1                         29  \n",
       "499997                0    0                         29  \n",
       "499998                0    0                         49  \n",
       "499999                0    0                         49  \n",
       "\n",
       "[500000 rows x 12 columns]"
      ]
     },
     "execution_count": 40,
     "metadata": {},
     "output_type": "execute_result"
    }
   ],
   "source": [
    "X"
   ]
  },
  {
   "cell_type": "code",
   "execution_count": 41,
   "metadata": {},
   "outputs": [],
   "source": [
    "y = churn['log']"
   ]
  },
  {
   "cell_type": "code",
   "execution_count": 43,
   "metadata": {},
   "outputs": [
    {
     "data": {
      "text/plain": [
       "0   -0.855073\n",
       "1   -1.325854\n",
       "2   -1.633833\n",
       "3   -1.859991\n",
       "4   -2.037057\n",
       "5   -2.181448\n",
       "6   -2.302605\n",
       "Name: log, dtype: float64"
      ]
     },
     "execution_count": 43,
     "metadata": {},
     "output_type": "execute_result"
    }
   ],
   "source": [
    "y"
   ]
  },
  {
   "cell_type": "code",
   "execution_count": 1,
   "metadata": {},
   "outputs": [],
   "source": [
    "from sklearn.model_selection import train_test_split\n",
    "\n",
    "X_train, X_test, y_train, y_test = train_test_split(X, y, test_size=0.2)"
   ]
  },
  {
   "cell_type": "code",
   "execution_count": 23,
   "metadata": {},
   "outputs": [
    {
     "data": {
      "text/plain": [
       "LinearRegression(copy_X=True, fit_intercept=True, n_jobs=None, normalize=False)"
      ]
     },
     "execution_count": 23,
     "metadata": {},
     "output_type": "execute_result"
    }
   ],
   "source": [
    "from sklearn.linear_model import LinearRegression\n",
    "\n",
    "lr = LinearRegression()\n",
    "lr.fit(X_train, y_train)"
   ]
  },
  {
   "cell_type": "code",
   "execution_count": 24,
   "metadata": {},
   "outputs": [
    {
     "data": {
      "text/plain": [
       "array([3.01699829, 2.64950562, 2.11856079, ..., 0.62002563, 1.61930847,\n",
       "       2.11856079])"
      ]
     },
     "execution_count": 24,
     "metadata": {},
     "output_type": "execute_result"
    }
   ],
   "source": [
    "lr.predict(X_test)"
   ]
  },
  {
   "cell_type": "code",
   "execution_count": 25,
   "metadata": {},
   "outputs": [
    {
     "data": {
      "text/plain": [
       "4.114466506203141"
      ]
     },
     "execution_count": 25,
     "metadata": {},
     "output_type": "execute_result"
    }
   ],
   "source": [
    "sklearn.metrics.mean_squared_error(lr.predict(X_test),y_test)"
   ]
  },
  {
   "cell_type": "code",
   "execution_count": 26,
   "metadata": {},
   "outputs": [
    {
     "data": {
      "text/plain": [
       "array([-1.79427374e+10, -1.79427374e+10, -1.79427374e+10, -1.79427374e+10,\n",
       "       -1.79427374e+10, -1.79427374e+10, -1.79427374e+10, -1.79427374e+10,\n",
       "       -5.17114712e+10, -5.17114712e+10, -5.17114712e+10, -3.02627299e-02])"
      ]
     },
     "execution_count": 26,
     "metadata": {},
     "output_type": "execute_result"
    }
   ],
   "source": [
    "lr.coef_"
   ]
  },
  {
   "cell_type": "code",
   "execution_count": 27,
   "metadata": {},
   "outputs": [
    {
     "name": "stdout",
     "output_type": "stream",
     "text": [
      "                 Generalized Linear Model Regression Results                  \n",
      "==============================================================================\n",
      "Dep. Variable:         billing_cycles   No. Observations:               400000\n",
      "Model:                            GLM   Df Residuals:                   399989\n",
      "Model Family:                Gaussian   Df Model:                           10\n",
      "Link Function:               identity   Scale:                          4.0957\n",
      "Method:                          IRLS   Log-Likelihood:            -8.4956e+05\n",
      "Date:                Sun, 01 Dec 2019   Deviance:                   1.6382e+06\n",
      "Time:                        20:28:27   Pearson chi2:                 1.64e+06\n",
      "No. Iterations:                     3                                         \n",
      "Covariance Type:            nonrobust                                         \n",
      "=============================================================================================\n",
      "                                coef    std err          z      P>|z|      [0.025      0.975]\n",
      "---------------------------------------------------------------------------------------------\n",
      "China                         2.2308      0.011    199.416      0.000       2.209       2.253\n",
      "France                        0.8552      0.010     87.742      0.000       0.836       0.874\n",
      "Germany                       1.3493      0.008    171.690      0.000       1.334       1.365\n",
      "India                         1.8640      0.010    187.935      0.000       1.845       1.883\n",
      "Italy                         0.8249      0.010     82.002      0.000       0.805       0.845\n",
      "Spain                         0.8350      0.010     81.045      0.000       0.815       0.855\n",
      "UK                            1.3496      0.008    174.385      0.000       1.334       1.365\n",
      "US                            1.3335      0.008    172.961      0.000       1.318       1.349\n",
      "ads                           2.2674      0.007    334.061      0.000       2.254       2.281\n",
      "friend_referral               4.9550      0.014    343.023      0.000       4.927       4.983\n",
      "seo                           3.4198      0.010    334.417      0.000       3.400       3.440\n",
      "subscription_monthly_cost    -0.0303      0.000   -183.437      0.000      -0.031      -0.030\n",
      "=============================================================================================\n"
     ]
    }
   ],
   "source": [
    "import statsmodels.api as sm\n",
    "gaussian_model = sm.GLM(y_train, X_train, family=sm.families.Gaussian())\n",
    "\n",
    "gaussian_model_results = gaussian_model.fit()\n",
    "\n",
    "print(gaussian_model_results.summary())"
   ]
  },
  {
   "cell_type": "code",
   "execution_count": null,
   "metadata": {},
   "outputs": [],
   "source": []
  }
 ],
 "metadata": {
  "kernelspec": {
   "display_name": "Python 3",
   "language": "python",
   "name": "python3"
  },
  "language_info": {
   "codemirror_mode": {
    "name": "ipython",
    "version": 3
   },
   "file_extension": ".py",
   "mimetype": "text/x-python",
   "name": "python",
   "nbconvert_exporter": "python",
   "pygments_lexer": "ipython3",
   "version": "3.7.4"
  }
 },
 "nbformat": 4,
 "nbformat_minor": 2
}
